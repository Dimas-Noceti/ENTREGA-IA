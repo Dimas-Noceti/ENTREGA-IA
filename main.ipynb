{
 "cells": [
  {
   "cell_type": "code",
   "execution_count": null,
   "metadata": {},
   "outputs": [],
   "source": [
    "!pip install -q -U google-generativeai\n",
    "!pip install openai"
   ]
  },
  {
   "cell_type": "code",
   "execution_count": null,
   "metadata": {},
   "outputs": [],
   "source": [
    "import google.generativeai as genai\n",
    "import openai\n",
    "import requests\n",
    "import os"
   ]
  },
  {
   "cell_type": "code",
   "execution_count": null,
   "metadata": {},
   "outputs": [],
   "source": [
    "model = genai.GenerativeModel('gemini-pro')"
   ]
  },
  {
   "cell_type": "code",
   "execution_count": null,
   "metadata": {},
   "outputs": [],
   "source": [
    "# Create the model\n",
    "generation_config = {\n",
    "  \"temperature\": 0.5,\n",
    "  \"top_p\": 0.95,\n",
    "  \"top_k\": 64,\n",
    "  \"max_output_tokens\": 8192,\n",
    "  \"response_mime_type\": \"text/plain\",\n",
    "}\n",
    "\n",
    "model = genai.GenerativeModel(\n",
    "    model_name=\"gemini-1.5-pro\",\n",
    "    generation_config=generation_config,\n",
    "    system_instruction=\"Sos un asistente virtual que ayuda a las personas cuando se enfrentan a varios desafíos y frustraciones cuando intentan adoptar y mantener hábitos saludables. Podes combinar análisis de texto y generación de gráficos, integrados en una aplicación de seguimiento de hábitos saludables.\",\n",
    ")\n",
    "\n",
    "history_chat = []\n",
    "# funcion para generar la imagen desde openai\n",
    "def generate_image_with_openai(prompt):\n",
    "    image_response = openai.Image.create(\n",
    "        prompt=prompt,\n",
    "        n=1,\n",
    "        size=\"1024x1024\"\n",
    "    )\n",
    "\n",
    "    # retorna la imagen en una url\n",
    "    response = image_response['data'][0]['url']\n",
    "    return response\n",
    "\n",
    "#funcion para iniciar el chat en un bucle while\n",
    "def chat():\n",
    "    chat_session = model.start_chat(history=history_chat)\n",
    "    \n",
    "    print(\"¡Hola! Estoy aquí para ayudarte a mantener hábitos saludables. Te brindaré análisis y gráficos personalizados para que puedas ver tu progreso y mantenerte motivado. ¡Vamos a lograrlo juntos! 🌱📊 escribe salir para terminar nuestra conversación.\")\n",
    "    \n",
    "    while True:\n",
    "        \n",
    "        user_message = input(\"Tu: \")\n",
    "\n",
    "        if user_message.lower() == \"salir\":  # Salir del chat\n",
    "            break\n",
    "\n",
    "        response = chat_session.send_message(user_message)\n",
    "        print(response.text)\n",
    "\n",
    "        # Actualizar historial con la respuesta de Gemini\n",
    "        history_chat.append({'role': 'user', 'parts': [user_message]})\n",
    "        history_chat.append({'role': 'model', 'parts': [response.text]})\n",
    "\n",
    "        # Después de la primera respuesta de gemini, se pregunta si se debe generar una imagen\n",
    "        if len(history_chat) == 2:  # Verifica que es la primera interacción completa osea, usuario y modelo.\n",
    "            #pregunta al usuario mediante un si o no si requiere la imagen o no.\n",
    "            generate_image = input(\"¿Deseas generar una imagen con OpenAI basada en tu mensaje? (sí/no): \").strip().lower()\n",
    "            \n",
    "            if generate_image == \"sí\" or generate_image == \"si\":\n",
    "                image_url = generate_image_with_openai(user_message)\n",
    "                print(f\"Image URL: {image_url}\")\n",
    "\n",
    "                # Agregar la URL de la imagen al historial\n",
    "                history_chat.append({'role': 'model', 'parts': [f\"Image URL: {image_url}\"]})\n",
    "\n",
    "chat()"
   ]
  }
 ],
 "metadata": {
  "language_info": {
   "name": "python"
  }
 },
 "nbformat": 4,
 "nbformat_minor": 2
}
